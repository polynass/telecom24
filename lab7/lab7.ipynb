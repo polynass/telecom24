{
  "cells": [
    {
      "cell_type": "markdown",
      "metadata": {
        "id": "eHtm59LC5ZZS"
      },
      "source": [
        "\n",
        "# Упражнение 7.3"
      ]
    },
    {
      "cell_type": "markdown",
      "metadata": {
        "id": "ya_kce-Y0a0I"
      },
      "source": [
        "В этой главе показано, как выразить ДПФ и обратное ДПФ произведениями\n",
        "матриц. Время выполнения этих операций пропорционально\n",
        "N^2, где N - длина массива сигнала. Во многих случаях этого\n",
        "достаточно, но есть алгоритм и побыстрее - быстрое преобразование\n",
        "Фурье (БПФ); время его работы пропорционально Nlog N.\n",
        "Ключ к БПФ - это лемма Дэниелсона-Ланцоша (Danielson-\n",
        "Lanczos).\n",
        "Эта лемма предлагает рекурсивный алгоритм для ДПФ:\n",
        "1. Дан массив сигнала у. Разделим его на четные элементы е и\n",
        "нечетные элементы о.\n",
        "2. Вычислим DFT е и о, делая рекурсивные вызовы.\n",
        "3. Вычислим DFT(y) для каждого значения n, используя лемму\n",
        "Дэниелсона-Ланцоша.\n",
        "В простейшем случае эту рекурсию надо продолжать, пока длина у\n",
        "не дойдет до 1. Тогда DFT(y) = у. А если длина у достаточно мала,\n",
        "можно вычислить его ДПФ перемножением матриц, используя заранее\n",
        "вычисленные матрицы."
      ]
    },
    {
      "cell_type": "markdown",
      "metadata": {
        "id": "ARMt9igO0cGI"
      },
      "source": [
        "Для начала импортируем необходимые библиотеки:"
      ]
    },
    {
      "cell_type": "code",
      "execution_count": 1,
      "metadata": {
        "id": "oUnPiOu95S5k"
      },
      "outputs": [
        {
          "name": "stdout",
          "output_type": "stream",
          "text": [
            "\n",
            "Saved under thinkdsp.py\n"
          ]
        }
      ],
      "source": [
        "import os\n",
        "\n",
        "if not os.path.exists('thinkdsp.py'):\n",
        "    !python -m wget https://github.com/AllenDowney/ThinkDSP/raw/master/code/thinkdsp.py\n",
        "import numpy as np\n",
        "import matplotlib.pyplot as plt\n",
        "from thinkdsp import decorate\n",
        "import numpy as np\n",
        "PI2 = 2 * np.pi"
      ]
    },
    {
      "cell_type": "markdown",
      "metadata": {
        "id": "Iajn_bOQ8-Bj"
      },
      "source": [
        "Теперь вычислим БПФ сигнала:"
      ]
    },
    {
      "cell_type": "code",
      "execution_count": 2,
      "metadata": {
        "colab": {
          "base_uri": "https://localhost:8080/"
        },
        "id": "z5IrFqPO89UV",
        "outputId": "413e221a-3222-40ed-f1fd-584283bafee5"
      },
      "outputs": [
        {
          "name": "stdout",
          "output_type": "stream",
          "text": [
            "[ 0.2+0.j  -1.2-0.2j  0.2+0.j  -1.2+0.2j]\n"
          ]
        }
      ],
      "source": [
        "ys = [-0.5, 0.1, 0.7, -0.1]\n",
        "hs = np.fft.fft(ys)\n",
        "print(hs)"
      ]
    },
    {
      "cell_type": "markdown",
      "metadata": {
        "id": "96E6FkTR8nar"
      },
      "source": [
        "Создадим функцию для вычисления DFT: "
      ]
    },
    {
      "cell_type": "code",
      "execution_count": 3,
      "metadata": {
        "id": "muqhXYjf8u0V"
      },
      "outputs": [],
      "source": [
        "def dft(ys):\n",
        "    N = len(ys)\n",
        "    ts = np.arange(N) / N\n",
        "    freqs = np.arange(N)\n",
        "    args = np.outer(ts, freqs)\n",
        "    M = np.exp(1j * PI2 * args)\n",
        "    amps = M.conj().transpose().dot(ys)\n",
        "    return amps"
      ]
    },
    {
      "cell_type": "markdown",
      "metadata": {
        "id": "izLD81zN8yPD"
      },
      "source": [
        "Теперь создадим функцию, которая делит массив пополам и вычисляет БПФ его половин."
      ]
    },
    {
      "cell_type": "code",
      "execution_count": 4,
      "metadata": {
        "id": "yet1V3z48yhD"
      },
      "outputs": [],
      "source": [
        "def fft_norec(ys):\n",
        "    N = len(ys)\n",
        "    He = np.fft.fft(ys[::2])\n",
        "    Ho = np.fft.fft(ys[1::2])\n",
        "    \n",
        "    ns = np.arange(N)\n",
        "    W = np.exp(-1j * PI2 * ns / N)\n",
        "    \n",
        "    return np.tile(He, 2) + W * np.tile(Ho, 2)"
      ]
    },
    {
      "cell_type": "markdown",
      "metadata": {
        "id": "1t8k3UN-9mbz"
      },
      "source": [
        "Видим, что результаты совпадают с ожидаемыми.\n"
      ]
    },
    {
      "cell_type": "code",
      "execution_count": 5,
      "metadata": {
        "colab": {
          "base_uri": "https://localhost:8080/"
        },
        "id": "GaARruUg9tFO",
        "outputId": "50667c59-031e-4156-c9ad-a368fa9a688e"
      },
      "outputs": [
        {
          "data": {
            "text/plain": [
              "0.0"
            ]
          },
          "execution_count": 5,
          "metadata": {},
          "output_type": "execute_result"
        }
      ],
      "source": [
        "hs3 = fft_norec(ys)\n",
        "np.sum(np.abs(hs - hs3))"
      ]
    },
    {
      "cell_type": "markdown",
      "metadata": {
        "id": "_-9Y25qH94ZS"
      },
      "source": [
        "Теперь заменим функцию np.fft.fft на рекурсивные вызовы и протестируем новую функцию вычисления БПФ.\n"
      ]
    },
    {
      "cell_type": "code",
      "execution_count": 6,
      "metadata": {
        "id": "6AwCC9Oa-IY5"
      },
      "outputs": [],
      "source": [
        "def fft(ys):\n",
        "    N = len(ys)\n",
        "    if N == 1:\n",
        "        return ys\n",
        "    \n",
        "    He = fft(ys[::2])\n",
        "    Ho = fft(ys[1::2])\n",
        "    \n",
        "    ns = np.arange(N)\n",
        "    W = np.exp(-1j * PI2 * ns / N)\n",
        "    \n",
        "    return np.tile(He, 2) + W * np.tile(Ho, 2)"
      ]
    },
    {
      "cell_type": "markdown",
      "metadata": {
        "id": "zgYhLLP0-KZR"
      },
      "source": [
        "Видим, что результаты совпали с ожидаемыми."
      ]
    },
    {
      "cell_type": "code",
      "execution_count": 7,
      "metadata": {
        "colab": {
          "base_uri": "https://localhost:8080/"
        },
        "id": "AhN7ih5Z-M6h",
        "outputId": "0e4738c7-7739-42cb-b5d9-a8df986e51fd"
      },
      "outputs": [
        {
          "data": {
            "text/plain": [
              "1.6653345369377348e-16"
            ]
          },
          "execution_count": 7,
          "metadata": {},
          "output_type": "execute_result"
        }
      ],
      "source": [
        "hs4 = fft(ys)\n",
        "np.sum(np.abs(hs - hs4))"
      ]
    }
  ],
  "metadata": {
    "colab": {
      "provenance": []
    },
    "kernelspec": {
      "display_name": "Python 3",
      "name": "python3"
    },
    "language_info": {
      "codemirror_mode": {
        "name": "ipython",
        "version": 3
      },
      "file_extension": ".py",
      "mimetype": "text/x-python",
      "name": "python",
      "nbconvert_exporter": "python",
      "pygments_lexer": "ipython3",
      "version": "3.12.2"
    }
  },
  "nbformat": 4,
  "nbformat_minor": 0
}
